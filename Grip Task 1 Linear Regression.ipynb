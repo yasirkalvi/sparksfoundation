{
 "cells": [
  {
   "cell_type": "code",
   "execution_count": 26,
   "id": "eb3425a0",
   "metadata": {},
   "outputs": [
    {
     "name": "stdout",
     "output_type": "stream",
     "text": [
      "Intercept    2.483673\n",
      "Hours        9.775803\n",
      "dtype: float64\n",
      "0    92.909855\n",
      "dtype: float64\n",
      "NO. of hours = 9.25\n",
      "Predicted Score = 0    92.909855\n",
      "dtype: float64\n"
     ]
    }
   ],
   "source": [
    "# Load libraries\n",
    "import pandas as pd\n",
    "import numpy as np\n",
    "import matplotlib.pyplot as plt\n",
    "import statsmodels.api as sm\n",
    "\n",
    "# Read in the data\n",
    "#students = pd.read_csv('test_data.csv')\n",
    "url=\"https://raw.githubusercontent.com/AdiPersonalWorks/Random/master/student_scores%20-%20student_scores.csv\"\n",
    "data=pd.read_csv(url)\n",
    "\n",
    "# Fit the model\n",
    "model = sm.OLS.from_formula('Scores ~ Hours', data)\n",
    "results = model.fit()\n",
    "\n",
    "# Print the model params\n",
    "print(results.params)\n",
    "\n",
    "\n",
    "# Calculate and print `pred_5hr` here:\n",
    "\n",
    "pred2 = results.predict({\"Hours\":[9.25]}\n",
    ")\n",
    "print(pred2)\n",
    "Hours= 9.25\n",
    "print(\"NO. of hours = {}\".format(Hours))\n",
    "print(\"Predicted Score = {}\".format(pred2))"
   ]
  },
  {
   "cell_type": "code",
   "execution_count": null,
   "id": "d1a2e0d9",
   "metadata": {},
   "outputs": [],
   "source": []
  }
 ],
 "metadata": {
  "kernelspec": {
   "display_name": "Python 3",
   "language": "python",
   "name": "python3"
  },
  "language_info": {
   "codemirror_mode": {
    "name": "ipython",
    "version": 3
   },
   "file_extension": ".py",
   "mimetype": "text/x-python",
   "name": "python",
   "nbconvert_exporter": "python",
   "pygments_lexer": "ipython3",
   "version": "3.8.8"
  }
 },
 "nbformat": 4,
 "nbformat_minor": 5
}
